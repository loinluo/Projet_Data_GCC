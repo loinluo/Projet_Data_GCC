{
 "cells": [
  {
   "cell_type": "code",
   "execution_count": 1,
   "metadata": {},
   "outputs": [],
   "source": [
    "import pandas as pd \n",
    "import numpy as np \n",
    "import matplotlib.pyplot as plt\n",
    "import os\n",
    "import torch\n",
    "from torch import nn\n",
    "from torch.nn import functional as F\n",
    "from d2l import torch as d2l"
   ]
  },
  {
   "cell_type": "code",
   "execution_count": 2,
   "metadata": {},
   "outputs": [],
   "source": [
    "path = \"F:/Document/France/ENPC/Cours/S5/Projet/data/\"\n",
    "os.chdir(path)\n",
    "df_data = pd.read_csv(\"data done.csv\", header=0)\n",
    "np_data = df_data.values\n",
    "np.random.shuffle(np_data)\n",
    "np_vitesse = np_data[:, :614]\n",
    "np_frf = np_data[:, 614:1228]\n",
    "np_classe = np_data[:, 1228:]\n",
    "vmax = np_vitesse.max()\n",
    "vmin = np_vitesse.min()\n",
    "fmax = np_frf.max()\n",
    "fmin = np_frf.min()\n",
    "np_vitesse = (np_vitesse - vmin) / (vmax - vmin)\n",
    "np_frf = (np_frf - fmin) / (fmax - fmin)\n",
    "ts_vitesse = torch.tensor(np_vitesse, dtype=torch.float32).reshape(np_vitesse.shape[0], 1, np_vitesse.shape[1])\n",
    "ts_frf = torch.tensor(np_frf, dtype=torch.float32).reshape(np_frf.shape[0], 1, np_frf.shape[1])\n",
    "ts_classe = torch.tensor(np_classe, dtype=torch.float32)\n",
    "ts_feature = torch.concat((ts_vitesse, ts_frf), dim=1)"
   ]
  },
  {
   "cell_type": "code",
   "execution_count": 3,
   "metadata": {},
   "outputs": [],
   "source": [
    "threshold1 = int(0.6*ts_feature.shape[0])\n",
    "threshold2 = int(0.8*ts_feature.shape[0])\n",
    "X_train_v = ts_vitesse[:threshold1]\n",
    "X_train_f = ts_frf[:threshold1]\n",
    "X_train = ts_feature[:threshold1]\n",
    "Y_train = ts_classe[:threshold1]\n",
    "X_valid_v = ts_vitesse[threshold1:threshold2]\n",
    "X_valid_f = ts_frf[threshold1:threshold2]\n",
    "X_valid = ts_feature[threshold1:threshold2]\n",
    "Y_valid = ts_classe[threshold1:threshold2]\n",
    "X_test_v = ts_vitesse[threshold2:]\n",
    "X_test_f = ts_frf[threshold2:]\n",
    "X_test = ts_feature[threshold2:]\n",
    "Y_test = ts_classe[threshold2:]"
   ]
  },
  {
   "cell_type": "code",
   "execution_count": 4,
   "metadata": {},
   "outputs": [],
   "source": [
    "def try_gpu(i=0):\n",
    "    \"\"\"if gpu exist, return gpu(i), otherwise, return cpu()\"\"\"\n",
    "    if torch.cuda.device_count() >= i + 1:\n",
    "        return torch.device(f'cuda:{i}')\n",
    "    return torch.device('cpu')\n",
    "\n",
    "device = try_gpu()"
   ]
  },
  {
   "cell_type": "code",
   "execution_count": 5,
   "metadata": {},
   "outputs": [],
   "source": [
    "np_label = Y_train.argmax(axis=1).numpy()\n",
    "index_2 = np.where(np_label == 2)\n",
    "index_3 = np.where(np_label == 3)\n",
    "index_4 = np.where(np_label == 4)"
   ]
  },
  {
   "cell_type": "code",
   "execution_count": 6,
   "metadata": {},
   "outputs": [],
   "source": [
    "X_v_2 = X_train_v[index_2]\n",
    "X_v_3 = X_train_v[index_3]\n",
    "X_v_4 = X_train_v[index_4]\n",
    "X_frf_2 = X_train_f[index_2]\n",
    "X_frf_3 = X_train_f[index_3]\n",
    "X_frf_4 = X_train_f[index_4]\n",
    "Y_2 = Y_train[index_2]\n",
    "Y_3 = Y_train[index_3]\n",
    "Y_4 = Y_train[index_4]"
   ]
  },
  {
   "cell_type": "code",
   "execution_count": 7,
   "metadata": {},
   "outputs": [],
   "source": [
    "class VAE(nn.Module):\n",
    "    def __init__(self, input_channel, h_dim=9216, z_dim=1024):\n",
    "        super(VAE, self).__init__()\n",
    "        self.encoder = nn.Sequential(\n",
    "            nn.Conv1d(input_channel, 32, kernel_size=4, stride=2),\n",
    "            nn.ReLU(),\n",
    "            nn.Conv1d(32, 64, kernel_size=4, stride=2),\n",
    "            nn.ReLU(),\n",
    "            nn.Conv1d(64, 128, kernel_size=4, stride=2),\n",
    "            nn.ReLU(),\n",
    "            nn.Conv1d(128, 256, kernel_size=4, stride=2),\n",
    "            nn.ReLU(),\n",
    "            nn.Flatten()\n",
    "        )\n",
    "        \n",
    "        self.fc1 = nn.Linear(h_dim, z_dim)\n",
    "        self.fc2 = nn.Linear(h_dim, z_dim)\n",
    "        self.fc3 = nn.Linear(z_dim, h_dim)\n",
    "        \n",
    "        self.decoder = nn.Sequential(\n",
    "            nn.Unflatten(1, (256, 36)),\n",
    "            nn.ConvTranspose1d(256, 128, kernel_size=5, stride=2),\n",
    "            nn.ReLU(),\n",
    "            nn.ConvTranspose1d(128, 64, kernel_size=4, stride=2),\n",
    "            nn.ReLU(),\n",
    "            nn.ConvTranspose1d(64, 32, kernel_size=4, stride=2),\n",
    "            nn.ReLU(),\n",
    "            nn.ConvTranspose1d(32, input_channel, kernel_size=4, stride=2),\n",
    "            nn.Sigmoid()\n",
    "        )\n",
    "        \n",
    "    def reparameterize(self, mu, logvar):\n",
    "        std = logvar.mul(0.5).exp_()\n",
    "        esp = torch.randn(*mu.size()).to(device)\n",
    "        z = mu + std * esp\n",
    "        return z\n",
    "    \n",
    "    def bottleneck(self, h):\n",
    "        mu, logvar = self.fc1(h), self.fc2(h)\n",
    "        z = self.reparameterize(mu, logvar)\n",
    "        return z, mu, logvar\n",
    "\n",
    "    def encode(self, x):\n",
    "        h = self.encoder(x)\n",
    "        z, mu, logvar = self.bottleneck(h)\n",
    "        return z, mu, logvar\n",
    "\n",
    "    def decode(self, z):\n",
    "        z = self.fc3(z)\n",
    "        z = self.decoder(z)\n",
    "        return z\n",
    "\n",
    "    def forward(self, x):\n",
    "        z, mu, logvar = self.encode(x)\n",
    "        z = self.decode(z)\n",
    "        return z, mu, logvar"
   ]
  },
  {
   "cell_type": "code",
   "execution_count": 8,
   "metadata": {},
   "outputs": [],
   "source": [
    "def loss_fn(recon_x, x, mu, logvar):\n",
    "    BCE = F.binary_cross_entropy(recon_x, x, reduction='sum')\n",
    "    # see Appendix B from VAE paper:\n",
    "    # Kingma and Welling. Auto-Encoding Variational Bayes. ICLR, 2014\n",
    "    # 0.5 * sum(1 + log(sigma^2) - mu^2 - sigma^2)\n",
    "    KLD = -0.5 * torch.mean(1 + logvar - mu.pow(2) - logvar.exp())\n",
    "    return BCE + KLD"
   ]
  },
  {
   "cell_type": "code",
   "execution_count": 9,
   "metadata": {},
   "outputs": [],
   "source": [
    "VAEnet_v = VAE(input_channel=1)\n",
    "VAEnet_f = VAE(input_channel=1)"
   ]
  },
  {
   "cell_type": "code",
   "execution_count": 10,
   "metadata": {},
   "outputs": [],
   "source": [
    "os.environ[\"KMP_DUPLICATE_LIB_OK\"] = \"TRUE\"\n",
    "num_epochs, lr, weight_decay, batch_size = 20, 1e-3, 0, 64"
   ]
  },
  {
   "cell_type": "code",
   "execution_count": 11,
   "metadata": {},
   "outputs": [],
   "source": [
    "def train_vae(net, X_train, Y_train, num_epochs, lr, weight_decay, batch_size, device):\n",
    "    def init_weights(m):\n",
    "        if type(m) == nn.Linear or type(m) == nn.Conv2d:\n",
    "            nn.init.xavier_uniform_(m.weight)\n",
    "    net.apply(init_weights)\n",
    "    print('training on', device)\n",
    "    net.to(device)\n",
    "    train_iter = d2l.load_array((X_train, Y_train), batch_size)\n",
    "    optimizer = torch.optim.Adam(net.parameters(),\n",
    "                                 lr=lr,\n",
    "                                 weight_decay=weight_decay)\n",
    "    for epoch in range(num_epochs):\n",
    "        net.train()\n",
    "        for i, (X, y) in enumerate(train_iter):\n",
    "            optimizer.zero_grad()\n",
    "            X, y = X.to(device), y.to(device)\n",
    "            z, mu, logvar = net(X)\n",
    "            l = loss_fn(z, X, mu, logvar)\n",
    "            l.backward()\n",
    "            optimizer.step()\n",
    "        print(\"Epoch[{}/{}] Loss: {:.3f}\".format(epoch+1, \n",
    "                                num_epochs, l/batch_size))"
   ]
  },
  {
   "cell_type": "code",
   "execution_count": 12,
   "metadata": {},
   "outputs": [
    {
     "name": "stdout",
     "output_type": "stream",
     "text": [
      "training on cuda:0\n",
      "Epoch[1/20] Loss: 58.861\n",
      "Epoch[2/20] Loss: 58.815\n",
      "Epoch[3/20] Loss: 58.822\n",
      "Epoch[4/20] Loss: 58.795\n",
      "Epoch[5/20] Loss: 58.822\n",
      "Epoch[6/20] Loss: 58.798\n",
      "Epoch[7/20] Loss: 58.793\n",
      "Epoch[8/20] Loss: 58.770\n",
      "Epoch[9/20] Loss: 58.801\n",
      "Epoch[10/20] Loss: 58.815\n",
      "Epoch[11/20] Loss: 58.789\n",
      "Epoch[12/20] Loss: 58.831\n",
      "Epoch[13/20] Loss: 58.784\n",
      "Epoch[14/20] Loss: 58.810\n",
      "Epoch[15/20] Loss: 58.765\n",
      "Epoch[16/20] Loss: 58.824\n",
      "Epoch[17/20] Loss: 58.770\n",
      "Epoch[18/20] Loss: 58.795\n",
      "Epoch[19/20] Loss: 58.807\n",
      "Epoch[20/20] Loss: 58.813\n"
     ]
    }
   ],
   "source": [
    "train_vae(VAEnet_v, X_train_v, Y_train, num_epochs, lr, weight_decay, batch_size, device)"
   ]
  },
  {
   "cell_type": "code",
   "execution_count": 13,
   "metadata": {},
   "outputs": [
    {
     "name": "stdout",
     "output_type": "stream",
     "text": [
      "training on cuda:0\n",
      "Epoch[1/20] Loss: 7.815\n",
      "Epoch[2/20] Loss: 3.144\n",
      "Epoch[3/20] Loss: 9.608\n",
      "Epoch[4/20] Loss: 8.508\n",
      "Epoch[5/20] Loss: 0.860\n",
      "Epoch[6/20] Loss: 0.917\n",
      "Epoch[7/20] Loss: 0.930\n",
      "Epoch[8/20] Loss: 0.979\n",
      "Epoch[9/20] Loss: 0.934\n",
      "Epoch[10/20] Loss: 0.868\n",
      "Epoch[11/20] Loss: 0.927\n",
      "Epoch[12/20] Loss: 1.028\n",
      "Epoch[13/20] Loss: 0.799\n",
      "Epoch[14/20] Loss: 1.271\n",
      "Epoch[15/20] Loss: 0.802\n",
      "Epoch[16/20] Loss: 0.863\n",
      "Epoch[17/20] Loss: 1.018\n",
      "Epoch[18/20] Loss: 0.717\n",
      "Epoch[19/20] Loss: 0.944\n",
      "Epoch[20/20] Loss: 0.864\n"
     ]
    }
   ],
   "source": [
    "train_vae(VAEnet_f, X_train_f, Y_train, num_epochs, lr, weight_decay, batch_size, device)"
   ]
  },
  {
   "cell_type": "code",
   "execution_count": 38,
   "metadata": {},
   "outputs": [],
   "source": [
    "torch.save(VAEnet_v, \"./VAEnet_v.pkl\")\n",
    "torch.save(VAEnet_f, \"./VAEnet_f.pkl\")"
   ]
  },
  {
   "cell_type": "code",
   "execution_count": 14,
   "metadata": {},
   "outputs": [],
   "source": [
    "def compare_signal(signal, recon_signal):\n",
    "    fig, axs = plt.subplots(2, figsize=(12,12))\n",
    "    axs[0].plot(signal[0])\n",
    "    axs[1].plot(recon_signal[0])\n",
    "    plt.show()"
   ]
  },
  {
   "cell_type": "code",
   "execution_count": 15,
   "metadata": {},
   "outputs": [],
   "source": [
    "# recon_v = VAEnet_v(X_v_2.to(device))\n",
    "# signal = X_v_2.detach().numpy()\n",
    "# recon_signal = recon_v[0].cpu()\n",
    "# recon_signal = recon_signal.detach().numpy()"
   ]
  },
  {
   "cell_type": "code",
   "execution_count": 16,
   "metadata": {},
   "outputs": [
    {
     "data": {
      "text/plain": [
       "(array([0, 1, 2, 3, 4], dtype=int64),\n",
       " array([4765, 6187, 1259,  128,   22], dtype=int64))"
      ]
     },
     "execution_count": 16,
     "metadata": {},
     "output_type": "execute_result"
    }
   ],
   "source": [
    "class_train = Y_train.argmax(axis=1).numpy()\n",
    "np.unique(class_train, return_counts=True)"
   ]
  },
  {
   "cell_type": "code",
   "execution_count": 26,
   "metadata": {},
   "outputs": [],
   "source": [
    "def data_augmentation(X, Y, VAEnet):\n",
    "    times = 3000 // len(X) + 1\n",
    "    X_new = X\n",
    "    Y_new = Y\n",
    "    for i in range(times):\n",
    "        recon = VAEnet(X)\n",
    "        X_recon = recon[0]\n",
    "        Y_recon = Y\n",
    "        X_new = torch.concat((X_new, X_recon), dim=0)\n",
    "        Y_new = torch.concat((Y_new, Y_recon), dim=0)\n",
    "    return X_new, Y_new"
   ]
  },
  {
   "cell_type": "code",
   "execution_count": 40,
   "metadata": {},
   "outputs": [],
   "source": [
    "VAEnet_f.cpu()\n",
    "VAEnet_v.cpu()\n",
    "device = 'cpu'"
   ]
  },
  {
   "cell_type": "code",
   "execution_count": 28,
   "metadata": {},
   "outputs": [],
   "source": [
    "X_frf_2_new, Y_2_new = data_augmentation(X_frf_2, Y_2, VAEnet_f)\n",
    "X_frf_3_new, Y_3_new = data_augmentation(X_frf_3, Y_3, VAEnet_f)\n",
    "X_frf_4_new, Y_4_new = data_augmentation(X_frf_4, Y_4, VAEnet_f)"
   ]
  },
  {
   "cell_type": "code",
   "execution_count": 47,
   "metadata": {},
   "outputs": [],
   "source": [
    "X_frf_2_new = X_frf_2_new * (fmax - fmin) + fmin\n",
    "X_frf_3_new = X_frf_3_new * (fmax - fmin) + fmin\n",
    "X_frf_4_new = X_frf_4_new * (fmax - fmin) + fmin"
   ]
  },
  {
   "cell_type": "code",
   "execution_count": 48,
   "metadata": {},
   "outputs": [],
   "source": [
    "X_train_f_new = torch.concat((X_train_f, X_frf_2_new, X_frf_3_new, X_frf_4_new), dim=0)\n",
    "Y_train_new = torch.concat((Y_train, Y_2_new, Y_3_new, Y_4_new), dim=0)\n",
    "index_new = np.arange(len(X_train_f_new))\n",
    "np.random.shuffle(index_new)\n",
    "X_train_f_new = X_train_f_new[index_new]\n",
    "Y_train_new = Y_train_new[index_new]"
   ]
  },
  {
   "cell_type": "code",
   "execution_count": 63,
   "metadata": {},
   "outputs": [],
   "source": [
    "X_v_2_new, Y_2_new = data_augmentation(X_v_2, Y_2, VAEnet_v)\n",
    "X_v_3_new, Y_3_new = data_augmentation(X_v_3, Y_3, VAEnet_v)\n",
    "X_v_4_new, Y_4_new = data_augmentation(X_v_4, Y_4, VAEnet_v)"
   ]
  },
  {
   "cell_type": "code",
   "execution_count": 64,
   "metadata": {},
   "outputs": [],
   "source": [
    "X_v_2_new = X_v_2_new * (vmax - vmin) + vmin\n",
    "X_v_3_new = X_v_3_new * (vmax - vmin) + vmin\n",
    "X_v_4_new = X_v_4_new * (vmax - vmin) + vmin"
   ]
  },
  {
   "cell_type": "code",
   "execution_count": 65,
   "metadata": {},
   "outputs": [],
   "source": [
    "X_train_v_new = torch.concat((X_train_v, X_v_2_new, X_v_3_new, X_v_4_new), dim=0)\n",
    "Y_train_new = torch.concat((Y_train, Y_2_new, Y_3_new, Y_4_new), dim=0)\n",
    "X_train_f_new = X_train_f_new[index_new]\n",
    "Y_train_new = Y_train_new[index_new]"
   ]
  },
  {
   "cell_type": "code",
   "execution_count": 52,
   "metadata": {},
   "outputs": [],
   "source": [
    "torch.save(X_train_f_new, 'X_train_f_new.pt')\n",
    "torch.save(Y_train_new, 'Y_train_f_new.pt')"
   ]
  },
  {
   "cell_type": "code",
   "execution_count": 66,
   "metadata": {},
   "outputs": [],
   "source": [
    "torch.save(X_train_v_new, 'X_train_v_new.pt')\n",
    "torch.save(Y_train_new, 'Y_train_v_new.pt')"
   ]
  },
  {
   "cell_type": "code",
   "execution_count": 54,
   "metadata": {},
   "outputs": [],
   "source": [
    "torch.save(X_valid_f, 'X_valid_f.pt')\n",
    "torch.save(Y_valid, 'Y_valid.pt')\n",
    "torch.save(X_test_f, 'X_test_f.pt')\n",
    "torch.save(Y_test, 'Y_test.pt')"
   ]
  },
  {
   "cell_type": "code",
   "execution_count": null,
   "metadata": {},
   "outputs": [],
   "source": [
    "torch.save(X_valid_v, 'X_valid_v.pt')\n",
    "torch.save(X_test_v, 'X_test_v.pt')"
   ]
  },
  {
   "cell_type": "code",
   "execution_count": 67,
   "metadata": {},
   "outputs": [
    {
     "data": {
      "image/svg+xml": "<?xml version=\"1.0\" encoding=\"utf-8\" standalone=\"no\"?>\n<!DOCTYPE svg PUBLIC \"-//W3C//DTD SVG 1.1//EN\"\n  \"http://www.w3.org/Graphics/SVG/1.1/DTD/svg11.dtd\">\n<svg xmlns:xlink=\"http://www.w3.org/1999/xlink\" width=\"715.282813pt\" height=\"696.358125pt\" viewBox=\"0 0 715.282813 696.358125\" xmlns=\"http://www.w3.org/2000/svg\" version=\"1.1\">\n <metadata>\n  <rdf:RDF xmlns:dc=\"http://purl.org/dc/elements/1.1/\" xmlns:cc=\"http://creativecommons.org/ns#\" xmlns:rdf=\"http://www.w3.org/1999/02/22-rdf-syntax-ns#\">\n   <cc:Work>\n    <dc:type rdf:resource=\"http://purl.org/dc/dcmitype/StillImage\"/>\n    <dc:date>2023-01-29T03:13:26.681354</dc:date>\n    <dc:format>image/svg+xml</dc:format>\n    <dc:creator>\n     <cc:Agent>\n      <dc:title>Matplotlib v3.5.2, https://matplotlib.org/</dc:title>\n     </cc:Agent>\n    </dc:creator>\n   </cc:Work>\n  </rdf:RDF>\n </metadata>\n <defs>\n  <style type=\"text/css\">*{stroke-linejoin: round; stroke-linecap: butt}</style>\n </defs>\n <g id=\"figure_1\">\n  <g id=\"patch_1\">\n   <path d=\"M 0 696.358125 \nL 715.282813 696.358125 \nL 715.282813 0 \nL 0 0 \nz\n\" style=\"fill: #ffffff\"/>\n  </g>\n  <g id=\"axes_1\">\n   <g id=\"patch_2\">\n    <path d=\"M 38.482813 309.6 \nL 708.082813 309.6 \nL 708.082813 7.2 \nL 38.482813 7.2 \nz\n\" style=\"fill: #ffffff\"/>\n   </g>\n   <g id=\"matplotlib.axis_1\">\n    <g id=\"xtick_1\">\n     <g id=\"line2d_1\">\n      <defs>\n       <path id=\"md4956d28e2\" d=\"M 0 0 \nL 0 3.5 \n\" style=\"stroke: #000000; stroke-width: 0.8\"/>\n      </defs>\n      <g>\n       <use xlink:href=\"#md4956d28e2\" x=\"68.919176\" y=\"309.6\" style=\"stroke: #000000; stroke-width: 0.8\"/>\n      </g>\n     </g>\n     <g id=\"text_1\">\n      <!-- 0 -->\n      <g transform=\"translate(65.737926 324.198438)scale(0.1 -0.1)\">\n       <defs>\n        <path id=\"DejaVuSans-30\" d=\"M 2034 4250 \nQ 1547 4250 1301 3770 \nQ 1056 3291 1056 2328 \nQ 1056 1369 1301 889 \nQ 1547 409 2034 409 \nQ 2525 409 2770 889 \nQ 3016 1369 3016 2328 \nQ 3016 3291 2770 3770 \nQ 2525 4250 2034 4250 \nz\nM 2034 4750 \nQ 2819 4750 3233 4129 \nQ 3647 3509 3647 2328 \nQ 3647 1150 3233 529 \nQ 2819 -91 2034 -91 \nQ 1250 -91 836 529 \nQ 422 1150 422 2328 \nQ 422 3509 836 4129 \nQ 1250 4750 2034 4750 \nz\n\" transform=\"scale(0.015625)\"/>\n       </defs>\n       <use xlink:href=\"#DejaVuSans-30\"/>\n      </g>\n     </g>\n    </g>\n    <g id=\"xtick_2\">\n     <g id=\"line2d_2\">\n      <g>\n       <use xlink:href=\"#md4956d28e2\" x=\"168.222157\" y=\"309.6\" style=\"stroke: #000000; stroke-width: 0.8\"/>\n      </g>\n     </g>\n     <g id=\"text_2\">\n      <!-- 100 -->\n      <g transform=\"translate(158.678407 324.198438)scale(0.1 -0.1)\">\n       <defs>\n        <path id=\"DejaVuSans-31\" d=\"M 794 531 \nL 1825 531 \nL 1825 4091 \nL 703 3866 \nL 703 4441 \nL 1819 4666 \nL 2450 4666 \nL 2450 531 \nL 3481 531 \nL 3481 0 \nL 794 0 \nL 794 531 \nz\n\" transform=\"scale(0.015625)\"/>\n       </defs>\n       <use xlink:href=\"#DejaVuSans-31\"/>\n       <use xlink:href=\"#DejaVuSans-30\" x=\"63.623047\"/>\n       <use xlink:href=\"#DejaVuSans-30\" x=\"127.246094\"/>\n      </g>\n     </g>\n    </g>\n    <g id=\"xtick_3\">\n     <g id=\"line2d_3\">\n      <g>\n       <use xlink:href=\"#md4956d28e2\" x=\"267.525138\" y=\"309.6\" style=\"stroke: #000000; stroke-width: 0.8\"/>\n      </g>\n     </g>\n     <g id=\"text_3\">\n      <!-- 200 -->\n      <g transform=\"translate(257.981388 324.198438)scale(0.1 -0.1)\">\n       <defs>\n        <path id=\"DejaVuSans-32\" d=\"M 1228 531 \nL 3431 531 \nL 3431 0 \nL 469 0 \nL 469 531 \nQ 828 903 1448 1529 \nQ 2069 2156 2228 2338 \nQ 2531 2678 2651 2914 \nQ 2772 3150 2772 3378 \nQ 2772 3750 2511 3984 \nQ 2250 4219 1831 4219 \nQ 1534 4219 1204 4116 \nQ 875 4013 500 3803 \nL 500 4441 \nQ 881 4594 1212 4672 \nQ 1544 4750 1819 4750 \nQ 2544 4750 2975 4387 \nQ 3406 4025 3406 3419 \nQ 3406 3131 3298 2873 \nQ 3191 2616 2906 2266 \nQ 2828 2175 2409 1742 \nQ 1991 1309 1228 531 \nz\n\" transform=\"scale(0.015625)\"/>\n       </defs>\n       <use xlink:href=\"#DejaVuSans-32\"/>\n       <use xlink:href=\"#DejaVuSans-30\" x=\"63.623047\"/>\n       <use xlink:href=\"#DejaVuSans-30\" x=\"127.246094\"/>\n      </g>\n     </g>\n    </g>\n    <g id=\"xtick_4\">\n     <g id=\"line2d_4\">\n      <g>\n       <use xlink:href=\"#md4956d28e2\" x=\"366.828119\" y=\"309.6\" style=\"stroke: #000000; stroke-width: 0.8\"/>\n      </g>\n     </g>\n     <g id=\"text_4\">\n      <!-- 300 -->\n      <g transform=\"translate(357.284369 324.198438)scale(0.1 -0.1)\">\n       <defs>\n        <path id=\"DejaVuSans-33\" d=\"M 2597 2516 \nQ 3050 2419 3304 2112 \nQ 3559 1806 3559 1356 \nQ 3559 666 3084 287 \nQ 2609 -91 1734 -91 \nQ 1441 -91 1130 -33 \nQ 819 25 488 141 \nL 488 750 \nQ 750 597 1062 519 \nQ 1375 441 1716 441 \nQ 2309 441 2620 675 \nQ 2931 909 2931 1356 \nQ 2931 1769 2642 2001 \nQ 2353 2234 1838 2234 \nL 1294 2234 \nL 1294 2753 \nL 1863 2753 \nQ 2328 2753 2575 2939 \nQ 2822 3125 2822 3475 \nQ 2822 3834 2567 4026 \nQ 2313 4219 1838 4219 \nQ 1578 4219 1281 4162 \nQ 984 4106 628 3988 \nL 628 4550 \nQ 988 4650 1302 4700 \nQ 1616 4750 1894 4750 \nQ 2613 4750 3031 4423 \nQ 3450 4097 3450 3541 \nQ 3450 3153 3228 2886 \nQ 3006 2619 2597 2516 \nz\n\" transform=\"scale(0.015625)\"/>\n       </defs>\n       <use xlink:href=\"#DejaVuSans-33\"/>\n       <use xlink:href=\"#DejaVuSans-30\" x=\"63.623047\"/>\n       <use xlink:href=\"#DejaVuSans-30\" x=\"127.246094\"/>\n      </g>\n     </g>\n    </g>\n    <g id=\"xtick_5\">\n     <g id=\"line2d_5\">\n      <g>\n       <use xlink:href=\"#md4956d28e2\" x=\"466.1311\" y=\"309.6\" style=\"stroke: #000000; stroke-width: 0.8\"/>\n      </g>\n     </g>\n     <g id=\"text_5\">\n      <!-- 400 -->\n      <g transform=\"translate(456.58735 324.198438)scale(0.1 -0.1)\">\n       <defs>\n        <path id=\"DejaVuSans-34\" d=\"M 2419 4116 \nL 825 1625 \nL 2419 1625 \nL 2419 4116 \nz\nM 2253 4666 \nL 3047 4666 \nL 3047 1625 \nL 3713 1625 \nL 3713 1100 \nL 3047 1100 \nL 3047 0 \nL 2419 0 \nL 2419 1100 \nL 313 1100 \nL 313 1709 \nL 2253 4666 \nz\n\" transform=\"scale(0.015625)\"/>\n       </defs>\n       <use xlink:href=\"#DejaVuSans-34\"/>\n       <use xlink:href=\"#DejaVuSans-30\" x=\"63.623047\"/>\n       <use xlink:href=\"#DejaVuSans-30\" x=\"127.246094\"/>\n      </g>\n     </g>\n    </g>\n    <g id=\"xtick_6\">\n     <g id=\"line2d_6\">\n      <g>\n       <use xlink:href=\"#md4956d28e2\" x=\"565.43408\" y=\"309.6\" style=\"stroke: #000000; stroke-width: 0.8\"/>\n      </g>\n     </g>\n     <g id=\"text_6\">\n      <!-- 500 -->\n      <g transform=\"translate(555.89033 324.198438)scale(0.1 -0.1)\">\n       <defs>\n        <path id=\"DejaVuSans-35\" d=\"M 691 4666 \nL 3169 4666 \nL 3169 4134 \nL 1269 4134 \nL 1269 2991 \nQ 1406 3038 1543 3061 \nQ 1681 3084 1819 3084 \nQ 2600 3084 3056 2656 \nQ 3513 2228 3513 1497 \nQ 3513 744 3044 326 \nQ 2575 -91 1722 -91 \nQ 1428 -91 1123 -41 \nQ 819 9 494 109 \nL 494 744 \nQ 775 591 1075 516 \nQ 1375 441 1709 441 \nQ 2250 441 2565 725 \nQ 2881 1009 2881 1497 \nQ 2881 1984 2565 2268 \nQ 2250 2553 1709 2553 \nQ 1456 2553 1204 2497 \nQ 953 2441 691 2322 \nL 691 4666 \nz\n\" transform=\"scale(0.015625)\"/>\n       </defs>\n       <use xlink:href=\"#DejaVuSans-35\"/>\n       <use xlink:href=\"#DejaVuSans-30\" x=\"63.623047\"/>\n       <use xlink:href=\"#DejaVuSans-30\" x=\"127.246094\"/>\n      </g>\n     </g>\n    </g>\n    <g id=\"xtick_7\">\n     <g id=\"line2d_7\">\n      <g>\n       <use xlink:href=\"#md4956d28e2\" x=\"664.737061\" y=\"309.6\" style=\"stroke: #000000; stroke-width: 0.8\"/>\n      </g>\n     </g>\n     <g id=\"text_7\">\n      <!-- 600 -->\n      <g transform=\"translate(655.193311 324.198438)scale(0.1 -0.1)\">\n       <defs>\n        <path id=\"DejaVuSans-36\" d=\"M 2113 2584 \nQ 1688 2584 1439 2293 \nQ 1191 2003 1191 1497 \nQ 1191 994 1439 701 \nQ 1688 409 2113 409 \nQ 2538 409 2786 701 \nQ 3034 994 3034 1497 \nQ 3034 2003 2786 2293 \nQ 2538 2584 2113 2584 \nz\nM 3366 4563 \nL 3366 3988 \nQ 3128 4100 2886 4159 \nQ 2644 4219 2406 4219 \nQ 1781 4219 1451 3797 \nQ 1122 3375 1075 2522 \nQ 1259 2794 1537 2939 \nQ 1816 3084 2150 3084 \nQ 2853 3084 3261 2657 \nQ 3669 2231 3669 1497 \nQ 3669 778 3244 343 \nQ 2819 -91 2113 -91 \nQ 1303 -91 875 529 \nQ 447 1150 447 2328 \nQ 447 3434 972 4092 \nQ 1497 4750 2381 4750 \nQ 2619 4750 2861 4703 \nQ 3103 4656 3366 4563 \nz\n\" transform=\"scale(0.015625)\"/>\n       </defs>\n       <use xlink:href=\"#DejaVuSans-36\"/>\n       <use xlink:href=\"#DejaVuSans-30\" x=\"63.623047\"/>\n       <use xlink:href=\"#DejaVuSans-30\" x=\"127.246094\"/>\n      </g>\n     </g>\n    </g>\n   </g>\n   <g id=\"matplotlib.axis_2\">\n    <g id=\"ytick_1\">\n     <g id=\"line2d_8\">\n      <defs>\n       <path id=\"m00fe3aa6fa\" d=\"M 0 0 \nL -3.5 0 \n\" style=\"stroke: #000000; stroke-width: 0.8\"/>\n      </defs>\n      <g>\n       <use xlink:href=\"#m00fe3aa6fa\" x=\"38.482813\" y=\"273.579654\" style=\"stroke: #000000; stroke-width: 0.8\"/>\n      </g>\n     </g>\n     <g id=\"text_8\">\n      <!-- 0.35 -->\n      <g transform=\"translate(9.217188 277.378873)scale(0.1 -0.1)\">\n       <defs>\n        <path id=\"DejaVuSans-2e\" d=\"M 684 794 \nL 1344 794 \nL 1344 0 \nL 684 0 \nL 684 794 \nz\n\" transform=\"scale(0.015625)\"/>\n       </defs>\n       <use xlink:href=\"#DejaVuSans-30\"/>\n       <use xlink:href=\"#DejaVuSans-2e\" x=\"63.623047\"/>\n       <use xlink:href=\"#DejaVuSans-33\" x=\"95.410156\"/>\n       <use xlink:href=\"#DejaVuSans-35\" x=\"159.033203\"/>\n      </g>\n     </g>\n    </g>\n    <g id=\"ytick_2\">\n     <g id=\"line2d_9\">\n      <g>\n       <use xlink:href=\"#m00fe3aa6fa\" x=\"38.482813\" y=\"213.613071\" style=\"stroke: #000000; stroke-width: 0.8\"/>\n      </g>\n     </g>\n     <g id=\"text_9\">\n      <!-- 0.40 -->\n      <g transform=\"translate(9.217188 217.41229)scale(0.1 -0.1)\">\n       <use xlink:href=\"#DejaVuSans-30\"/>\n       <use xlink:href=\"#DejaVuSans-2e\" x=\"63.623047\"/>\n       <use xlink:href=\"#DejaVuSans-34\" x=\"95.410156\"/>\n       <use xlink:href=\"#DejaVuSans-30\" x=\"159.033203\"/>\n      </g>\n     </g>\n    </g>\n    <g id=\"ytick_3\">\n     <g id=\"line2d_10\">\n      <g>\n       <use xlink:href=\"#m00fe3aa6fa\" x=\"38.482813\" y=\"153.646488\" style=\"stroke: #000000; stroke-width: 0.8\"/>\n      </g>\n     </g>\n     <g id=\"text_10\">\n      <!-- 0.45 -->\n      <g transform=\"translate(9.217188 157.445707)scale(0.1 -0.1)\">\n       <use xlink:href=\"#DejaVuSans-30\"/>\n       <use xlink:href=\"#DejaVuSans-2e\" x=\"63.623047\"/>\n       <use xlink:href=\"#DejaVuSans-34\" x=\"95.410156\"/>\n       <use xlink:href=\"#DejaVuSans-35\" x=\"159.033203\"/>\n      </g>\n     </g>\n    </g>\n    <g id=\"ytick_4\">\n     <g id=\"line2d_11\">\n      <g>\n       <use xlink:href=\"#m00fe3aa6fa\" x=\"38.482813\" y=\"93.679905\" style=\"stroke: #000000; stroke-width: 0.8\"/>\n      </g>\n     </g>\n     <g id=\"text_11\">\n      <!-- 0.50 -->\n      <g transform=\"translate(9.217188 97.479124)scale(0.1 -0.1)\">\n       <use xlink:href=\"#DejaVuSans-30\"/>\n       <use xlink:href=\"#DejaVuSans-2e\" x=\"63.623047\"/>\n       <use xlink:href=\"#DejaVuSans-35\" x=\"95.410156\"/>\n       <use xlink:href=\"#DejaVuSans-30\" x=\"159.033203\"/>\n      </g>\n     </g>\n    </g>\n    <g id=\"ytick_5\">\n     <g id=\"line2d_12\">\n      <g>\n       <use xlink:href=\"#m00fe3aa6fa\" x=\"38.482813\" y=\"33.713322\" style=\"stroke: #000000; stroke-width: 0.8\"/>\n      </g>\n     </g>\n     <g id=\"text_12\">\n      <!-- 0.55 -->\n      <g transform=\"translate(9.217188 37.512541)scale(0.1 -0.1)\">\n       <use xlink:href=\"#DejaVuSans-30\"/>\n       <use xlink:href=\"#DejaVuSans-2e\" x=\"63.623047\"/>\n       <use xlink:href=\"#DejaVuSans-35\" x=\"95.410156\"/>\n       <use xlink:href=\"#DejaVuSans-35\" x=\"159.033203\"/>\n      </g>\n     </g>\n    </g>\n   </g>\n   <g id=\"line2d_13\">\n    <path d=\"M 68.919176 184.889237 \nL 69.912206 184.680248 \nL 70.905236 184.628564 \nL 72.891295 185.079246 \nL 73.884325 184.813569 \nL 74.877355 185.363687 \nL 75.870385 185.392318 \nL 76.863415 185.973497 \nL 79.842504 185.942829 \nL 80.835534 185.762113 \nL 81.828564 185.879243 \nL 82.821593 185.842606 \nL 83.814623 184.861893 \nL 84.807653 185.946153 \nL 85.800683 185.609098 \nL 86.793713 186.126333 \nL 87.786743 185.838889 \nL 88.779772 185.980574 \nL 89.772802 186.565077 \nL 90.765832 186.514501 \nL 92.751892 186.01478 \nL 93.744921 186.494056 \nL 94.737951 185.701136 \nL 95.730981 185.723046 \nL 96.724011 185.312575 \nL 97.717041 185.393819 \nL 98.71007 185.742026 \nL 99.7031 185.586044 \nL 100.69613 186.217978 \nL 101.68916 186.378428 \nL 102.68219 186.830575 \nL 103.675219 186.818494 \nL 104.668249 187.441849 \nL 105.661279 187.055326 \nL 106.654309 187.666064 \nL 109.633398 187.141788 \nL 110.626428 187.447997 \nL 111.619458 187.378084 \nL 113.605518 187.962623 \nL 114.598547 187.923556 \nL 116.584607 187.632252 \nL 117.577637 186.753227 \nL 118.570667 187.064262 \nL 119.563696 186.042838 \nL 120.556726 186.855666 \nL 122.542786 186.949563 \nL 123.535816 186.350334 \nL 124.528845 186.743755 \nL 125.521875 185.548121 \nL 126.514905 185.814334 \nL 127.507935 184.070439 \nL 128.500965 187.229715 \nL 129.493994 113.335838 \nL 130.487024 20.945455 \nL 131.480054 100.253984 \nL 132.473084 79.603505 \nL 133.466114 149.387525 \nL 134.459144 247.013667 \nL 135.452173 232.891266 \nL 136.445203 203.169105 \nL 137.438233 230.00192 \nL 138.431263 155.701431 \nL 139.424293 187.760711 \nL 140.417322 251.655986 \nL 141.410352 250.941879 \nL 142.403382 295.854545 \nL 143.396412 295.834637 \nL 144.389442 204.037335 \nL 145.382471 191.260582 \nL 146.375501 184.538957 \nL 147.368531 151.640434 \nL 148.361561 218.151229 \nL 149.354591 250.459065 \nL 150.34762 229.315121 \nL 151.34065 250.430077 \nL 152.33368 210.360177 \nL 153.32671 163.815205 \nL 154.31974 194.942669 \nL 155.312769 200.618351 \nL 156.305799 208.369942 \nL 157.298829 262.419272 \nL 158.291859 229.249497 \nL 159.284889 188.957633 \nL 160.277919 187.435165 \nL 161.270948 153.91847 \nL 162.263978 152.482429 \nL 163.257008 199.457279 \nL 164.250038 218.566346 \nL 165.243068 222.397553 \nL 166.236097 241.688837 \nL 167.229127 206.796541 \nL 168.222157 181.746295 \nL 169.215187 173.20139 \nL 170.208217 167.271183 \nL 171.201246 170.851582 \nL 172.194276 194.373214 \nL 173.187306 193.39511 \nL 174.180336 187.501897 \nL 175.173366 172.533034 \nL 176.166395 146.899214 \nL 177.159425 133.545356 \nL 179.145485 148.209726 \nL 180.138515 168.762626 \nL 181.131545 180.061912 \nL 182.124574 167.097938 \nL 183.117604 149.944506 \nL 185.103664 110.923945 \nL 186.096694 124.827921 \nL 187.089723 143.729322 \nL 188.082753 157.368514 \nL 189.075783 165.099518 \nL 191.061843 121.910123 \nL 192.054872 122.080617 \nL 193.047902 127.849444 \nL 194.040932 154.743773 \nL 195.033962 195.302778 \nL 196.026992 198.721441 \nL 197.020021 196.031576 \nL 198.013051 176.818211 \nL 199.006081 145.499988 \nL 199.999111 144.89336 \nL 200.992141 167.728013 \nL 201.985171 182.614167 \nL 202.9782 209.670804 \nL 203.97123 205.836845 \nL 204.96426 186.602643 \nL 205.95729 180.749426 \nL 206.95032 163.658473 \nL 207.943349 164.531528 \nL 208.936379 195.827448 \nL 210.922439 207.536097 \nL 211.915469 207.006995 \nL 212.908498 181.479331 \nL 213.901528 164.185537 \nL 214.894558 167.391673 \nL 215.887588 168.445086 \nL 216.880618 192.930489 \nL 217.873647 203.591335 \nL 218.866677 195.043071 \nL 219.859707 190.523421 \nL 220.852737 177.539574 \nL 221.845767 167.634867 \nL 223.831826 200.09629 \nL 225.817886 227.669018 \nL 226.810916 215.825369 \nL 227.803946 200.360466 \nL 228.796975 193.829386 \nL 229.790005 188.535617 \nL 230.783035 203.948478 \nL 231.776065 229.198027 \nL 232.769095 234.901195 \nL 233.762124 235.810887 \nL 234.755154 226.98876 \nL 235.748184 204.491341 \nL 236.741214 200.641584 \nL 237.734244 204.145564 \nL 238.727273 220.435198 \nL 239.720303 234.581797 \nL 240.713333 244.733593 \nL 242.699393 215.583318 \nL 243.692422 191.667014 \nL 244.685452 182.982283 \nL 245.678482 191.785073 \nL 246.671512 210.162554 \nL 247.664542 222.184883 \nL 248.657572 230.047849 \nL 249.650601 218.392922 \nL 250.643631 200.25002 \nL 251.636661 187.66367 \nL 252.629691 177.569669 \nL 253.622721 184.946318 \nL 254.61575 200.500078 \nL 255.60878 206.887829 \nL 256.60181 205.614489 \nL 257.59484 197.002817 \nL 258.58787 178.420993 \nL 259.580899 171.396125 \nL 260.573929 174.875193 \nL 261.566959 182.830018 \nL 262.559989 197.673031 \nL 263.553019 204.015424 \nL 264.546048 198.134507 \nL 265.539078 188.127719 \nL 266.532108 174.375257 \nL 267.525138 164.331297 \nL 268.518168 169.801528 \nL 270.504227 182.147902 \nL 271.497257 184.233319 \nL 272.490287 174.246797 \nL 273.483317 160.959529 \nL 274.476347 153.659298 \nL 275.469376 151.574238 \nL 276.462406 159.412864 \nL 277.455436 170.234696 \nL 278.448466 173.174047 \nL 279.441496 171.978055 \nL 280.434525 163.559572 \nL 281.427555 151.52552 \nL 282.420585 146.262061 \nL 283.413615 151.19833 \nL 284.406645 157.328375 \nL 285.399674 166.781327 \nL 286.392704 168.670588 \nL 287.385734 163.380322 \nL 288.378764 155.915209 \nL 289.371794 150.818133 \nL 290.364823 150.704006 \nL 291.357853 163.101849 \nL 292.350883 172.772654 \nL 293.343913 179.774468 \nL 294.336943 181.252864 \nL 295.329973 175.194984 \nL 296.323002 166.552466 \nL 297.316032 163.675379 \nL 298.309062 167.412868 \nL 300.295122 188.808156 \nL 301.288151 193.946909 \nL 302.281181 191.838044 \nL 303.274211 183.894012 \nL 304.267241 174.772003 \nL 305.260271 176.602002 \nL 306.2533 182.586288 \nL 308.23936 201.520393 \nL 309.23239 204.493771 \nL 310.22542 197.551255 \nL 311.218449 189.322031 \nL 312.211479 183.79958 \nL 313.204509 182.443495 \nL 314.197539 191.353906 \nL 315.190569 201.533618 \nL 316.183599 207.601006 \nL 317.176628 208.607382 \nL 318.169658 201.478574 \nL 319.162688 193.396576 \nL 320.155718 188.570002 \nL 321.148748 190.261676 \nL 322.141777 196.087191 \nL 323.134807 203.254637 \nL 324.127837 205.55462 \nL 325.120867 204.896844 \nL 326.113897 198.320978 \nL 327.106926 190.339738 \nL 328.099956 191.19217 \nL 329.092986 194.716238 \nL 330.086016 199.676848 \nL 331.079046 206.115139 \nL 332.072075 207.471224 \nL 333.065105 202.152149 \nL 334.058135 195.033778 \nL 335.051165 190.817906 \nL 336.044195 192.766322 \nL 337.037224 195.862976 \nL 338.030254 199.907747 \nL 339.023284 202.142105 \nL 340.016314 201.236702 \nL 342.002374 190.231366 \nL 342.995403 187.875053 \nL 343.988433 190.016444 \nL 344.981463 195.862405 \nL 345.974493 200.314 \nL 346.967523 200.212097 \nL 347.960552 196.678772 \nL 348.953582 188.713902 \nL 349.946612 184.157652 \nL 350.939642 182.022194 \nL 352.925701 188.544159 \nL 353.918731 191.128047 \nL 354.911761 190.981895 \nL 355.904791 189.388049 \nL 356.897821 186.126333 \nL 357.89085 184.105038 \nL 358.88388 180.819339 \nL 359.87691 180.417554 \nL 360.86994 181.577302 \nL 361.86297 182.532924 \nL 362.856 182.003786 \nL 363.849029 178.063099 \nL 365.835089 166.213516 \nL 366.828119 161.732183 \nL 367.821149 165.068815 \nL 368.814178 171.057783 \nL 369.807208 172.741987 \nL 370.800238 168.892945 \nL 371.793268 163.277525 \nL 372.786298 160.940192 \nL 373.779327 163.570331 \nL 374.772357 167.267466 \nL 375.765387 172.374443 \nL 376.758417 174.922802 \nL 377.751447 175.750679 \nL 379.737506 169.705773 \nL 380.730536 166.114044 \nL 381.723566 170.454265 \nL 382.716596 176.525405 \nL 383.709625 180.465914 \nL 384.702655 181.916038 \nL 385.695685 181.692001 \nL 386.688715 178.974114 \nL 387.681745 175.139011 \nL 388.674775 175.590801 \nL 389.667804 180.639553 \nL 390.660834 184.40417 \nL 392.646894 188.878248 \nL 393.639924 186.555784 \nL 394.632953 182.814756 \nL 395.625983 182.616598 \nL 396.619013 183.918746 \nL 397.612043 186.607825 \nL 398.605073 192.48524 \nL 399.598102 193.08908 \nL 400.591132 191.966146 \nL 401.584162 191.442799 \nL 402.577192 187.32715 \nL 404.563251 191.305939 \nL 405.556281 194.623843 \nL 406.549311 198.976502 \nL 407.542341 197.319999 \nL 408.535371 196.140341 \nL 409.528401 194.645753 \nL 410.52143 191.211149 \nL 411.51446 194.655618 \nL 412.50749 196.371455 \nL 413.50052 200.944254 \nL 414.49355 203.238446 \nL 415.486579 199.828362 \nL 416.479609 199.944204 \nL 417.472639 194.003418 \nL 418.465669 195.532784 \nL 419.458699 196.722628 \nL 420.451728 198.957737 \nL 421.444758 203.756789 \nL 422.437788 200.411399 \nL 423.430818 200.963412 \nL 424.423848 195.673325 \nL 425.416877 192.252839 \nL 426.409907 193.836284 \nL 427.402937 193.182583 \nL 428.395967 199.592995 \nL 429.388997 198.85083 \nL 430.382026 198.606921 \nL 431.375056 195.799747 \nL 432.368086 190.454473 \nL 433.361116 191.091983 \nL 434.354146 187.692836 \nL 435.347176 192.372757 \nL 436.340205 194.153824 \nL 437.333235 193.522641 \nL 438.326265 195.56606 \nL 439.319295 188.216755 \nL 440.312325 189.113829 \nL 441.305354 185.169782 \nL 442.298384 187.016473 \nL 443.291414 190.163311 \nL 444.284444 189.708555 \nL 445.277474 191.976011 \nL 446.270503 187.890851 \nL 447.263533 185.688125 \nL 448.256563 184.618163 \nL 449.249593 182.019049 \nL 450.242623 185.935395 \nL 451.235652 185.421305 \nL 452.228682 187.192364 \nL 453.221712 186.094343 \nL 454.214742 182.211667 \nL 455.207772 182.295698 \nL 456.200802 178.038758 \nL 457.193831 181.485265 \nL 458.186861 180.387637 \nL 459.179891 183.223047 \nL 460.172921 182.95998 \nL 461.165951 179.786942 \nL 462.15898 179.744551 \nL 463.15201 176.073615 \nL 464.14504 178.582014 \nL 465.13807 176.737539 \nL 466.1311 181.507389 \nL 467.124129 180.332021 \nL 468.117159 181.302511 \nL 469.110189 177.927777 \nL 470.103219 177.53289 \nL 471.096249 176.16694 \nL 472.089278 177.179822 \nL 473.082308 179.737474 \nL 474.075338 181.429684 \nL 475.068368 182.793561 \nL 476.061398 180.93125 \nL 477.054428 180.422021 \nL 478.047457 177.63011 \nL 479.040487 179.114476 \nL 480.033517 179.798094 \nL 481.026547 182.321362 \nL 482.019577 183.520499 \nL 483.012606 185.421698 \nL 484.005636 182.82891 \nL 484.998666 182.491462 \nL 485.991696 180.659426 \nL 486.984726 181.81174 \nL 487.977755 183.586516 \nL 488.970785 185.875525 \nL 489.963815 187.277325 \nL 490.956845 187.115017 \nL 491.949875 185.351785 \nL 492.942904 184.535597 \nL 493.935934 184.71113 \nL 494.928964 185.40254 \nL 495.921994 188.158959 \nL 496.915024 189.664698 \nL 497.908053 190.315933 \nL 498.901083 189.800414 \nL 499.894113 188.416986 \nL 500.887143 187.487028 \nL 501.880173 187.065763 \nL 503.866232 190.649128 \nL 504.859262 191.483867 \nL 505.852292 191.923755 \nL 506.845322 190.545367 \nL 508.831381 188.802402 \nL 510.817441 190.378984 \nL 511.810471 191.735783 \nL 512.803501 192.475017 \nL 513.79653 192.230321 \nL 514.78956 189.895597 \nL 515.78259 189.721744 \nL 516.77562 188.35172 \nL 518.761679 189.839088 \nL 519.754709 189.505714 \nL 520.747739 189.572267 \nL 521.740769 188.623723 \nL 522.733799 186.263157 \nL 523.726829 185.66189 \nL 524.719858 185.263858 \nL 525.712888 186.466927 \nL 526.705918 186.877791 \nL 527.698948 186.97058 \nL 528.691978 186.2282 \nL 529.685007 184.329611 \nL 530.678037 182.910869 \nL 531.671067 182.448142 \nL 532.664097 183.598204 \nL 534.650156 184.63582 \nL 535.643186 184.643826 \nL 536.636216 183.388322 \nL 537.629246 182.618993 \nL 538.622276 181.308659 \nL 539.615305 182.228752 \nL 540.608335 182.645585 \nL 542.594395 185.43285 \nL 543.587425 184.588031 \nL 544.580454 183.568109 \nL 545.573484 182.946397 \nL 546.566514 181.957892 \nL 547.559544 182.600406 \nL 548.552574 183.547843 \nL 549.545604 183.879322 \nL 550.538633 185.515773 \nL 552.524693 182.894141 \nL 553.517723 182.073342 \nL 554.510753 181.92962 \nL 555.503782 182.898073 \nL 556.496812 183.194774 \nL 557.489842 184.603294 \nL 558.482872 184.0303 \nL 559.475902 183.871137 \nL 560.468931 182.56452 \nL 561.461961 182.720896 \nL 562.454991 182.395707 \nL 563.448021 183.361551 \nL 564.441051 184.750519 \nL 565.43408 185.118098 \nL 566.42711 185.025131 \nL 567.42014 184.049243 \nL 568.41317 184.918045 \nL 569.4062 183.59245 \nL 570.39923 185.051902 \nL 571.392259 185.168674 \nL 573.378319 187.915192 \nL 574.371349 187.429768 \nL 575.364379 187.425122 \nL 576.357408 185.823091 \nL 577.350438 187.931384 \nL 578.343468 188.079931 \nL 579.336498 188.923606 \nL 581.322557 190.248272 \nL 582.315587 188.618719 \nL 583.308617 189.302516 \nL 584.301647 187.674428 \nL 585.294677 189.134989 \nL 586.287706 189.541993 \nL 587.280736 190.565061 \nL 588.273766 191.277524 \nL 590.259826 189.32221 \nL 591.252856 189.21105 \nL 592.245885 189.500138 \nL 593.238915 189.99339 \nL 594.231945 189.894489 \nL 596.218005 190.657671 \nL 597.211034 189.734218 \nL 599.197094 188.390787 \nL 600.190124 188.554954 \nL 601.183154 189.51633 \nL 602.176183 189.631958 \nL 603.169213 189.996356 \nL 604.162243 189.678245 \nL 605.155273 188.50495 \nL 606.148303 189.048742 \nL 607.141332 187.792487 \nL 608.134362 187.697125 \nL 610.120422 189.424471 \nL 611.113452 188.235913 \nL 612.106481 188.798327 \nL 613.099511 186.802874 \nL 614.092541 187.006823 \nL 615.085571 184.672063 \nL 616.078601 186.738358 \nL 617.071631 186.489767 \nL 618.06466 185.6922 \nL 619.05769 186.147493 \nL 620.05072 184.780471 \nL 621.04375 184.445811 \nL 622.03678 183.456734 \nL 623.029809 183.801617 \nL 624.022839 182.999011 \nL 625.015869 183.116319 \nL 626.008899 184.16934 \nL 627.001929 184.553468 \nL 627.994958 184.416073 \nL 628.987988 184.435588 \nL 629.981018 183.700286 \nL 630.974048 185.090004 \nL 631.967078 184.339082 \nL 632.960107 186.065713 \nL 633.953137 184.476692 \nL 634.946167 185.017339 \nL 635.939197 184.835694 \nL 636.932227 183.612358 \nL 637.925257 183.763872 \nL 638.918286 184.20208 \nL 639.911316 184.432228 \nL 640.904346 184.133847 \nL 641.897376 183.457842 \nL 642.890406 182.973347 \nL 643.883435 182.35907 \nL 644.876465 182.486815 \nL 645.869495 182.072019 \nL 646.862525 182.401855 \nL 647.855555 183.118356 \nL 648.848584 182.477701 \nL 649.841614 182.905293 \nL 650.834644 182.098255 \nL 651.827674 182.209415 \nL 652.820704 181.889266 \nL 653.813733 182.931707 \nL 654.806763 183.000691 \nL 655.799793 184.036054 \nL 656.792823 183.3158 \nL 657.785853 183.787498 \nL 658.778882 182.593901 \nL 659.771912 183.535583 \nL 660.764942 183.322519 \nL 661.757972 184.598468 \nL 662.751002 184.490418 \nL 663.744032 185.672863 \nL 664.737061 184.775431 \nL 665.730091 185.99916 \nL 666.723121 184.6202 \nL 667.716151 186.947704 \nL 668.709181 184.758704 \nL 669.70221 188.060594 \nL 670.69524 186.41392 \nL 671.68827 188.580403 \nL 672.6813 186.829824 \nL 673.67433 187.764071 \nL 674.667359 186.973368 \nL 675.660389 187.401138 \nL 676.653419 188.216576 \nL 677.646449 187.883238 \nL 677.646449 187.883238 \n\" clip-path=\"url(#pd5b0d24aa5)\" style=\"fill: none; stroke: #1f77b4; stroke-width: 1.5; stroke-linecap: square\"/>\n   </g>\n   <g id=\"patch_3\">\n    <path d=\"M 38.482813 309.6 \nL 38.482813 7.2 \n\" style=\"fill: none; stroke: #000000; stroke-width: 0.8; stroke-linejoin: miter; stroke-linecap: square\"/>\n   </g>\n   <g id=\"patch_4\">\n    <path d=\"M 708.082813 309.6 \nL 708.082813 7.2 \n\" style=\"fill: none; stroke: #000000; stroke-width: 0.8; stroke-linejoin: miter; stroke-linecap: square\"/>\n   </g>\n   <g id=\"patch_5\">\n    <path d=\"M 38.482813 309.6 \nL 708.082813 309.6 \n\" style=\"fill: none; stroke: #000000; stroke-width: 0.8; stroke-linejoin: miter; stroke-linecap: square\"/>\n   </g>\n   <g id=\"patch_6\">\n    <path d=\"M 38.482813 7.2 \nL 708.082813 7.2 \n\" style=\"fill: none; stroke: #000000; stroke-width: 0.8; stroke-linejoin: miter; stroke-linecap: square\"/>\n   </g>\n  </g>\n  <g id=\"axes_2\">\n   <g id=\"patch_7\">\n    <path d=\"M 38.482813 672.48 \nL 708.082813 672.48 \nL 708.082813 370.08 \nL 38.482813 370.08 \nz\n\" style=\"fill: #ffffff\"/>\n   </g>\n   <g id=\"matplotlib.axis_3\">\n    <g id=\"xtick_8\">\n     <g id=\"line2d_14\">\n      <g>\n       <use xlink:href=\"#md4956d28e2\" x=\"68.919176\" y=\"672.48\" style=\"stroke: #000000; stroke-width: 0.8\"/>\n      </g>\n     </g>\n     <g id=\"text_13\">\n      <!-- 0 -->\n      <g transform=\"translate(65.737926 687.078438)scale(0.1 -0.1)\">\n       <use xlink:href=\"#DejaVuSans-30\"/>\n      </g>\n     </g>\n    </g>\n    <g id=\"xtick_9\">\n     <g id=\"line2d_15\">\n      <g>\n       <use xlink:href=\"#md4956d28e2\" x=\"168.222157\" y=\"672.48\" style=\"stroke: #000000; stroke-width: 0.8\"/>\n      </g>\n     </g>\n     <g id=\"text_14\">\n      <!-- 100 -->\n      <g transform=\"translate(158.678407 687.078438)scale(0.1 -0.1)\">\n       <use xlink:href=\"#DejaVuSans-31\"/>\n       <use xlink:href=\"#DejaVuSans-30\" x=\"63.623047\"/>\n       <use xlink:href=\"#DejaVuSans-30\" x=\"127.246094\"/>\n      </g>\n     </g>\n    </g>\n    <g id=\"xtick_10\">\n     <g id=\"line2d_16\">\n      <g>\n       <use xlink:href=\"#md4956d28e2\" x=\"267.525138\" y=\"672.48\" style=\"stroke: #000000; stroke-width: 0.8\"/>\n      </g>\n     </g>\n     <g id=\"text_15\">\n      <!-- 200 -->\n      <g transform=\"translate(257.981388 687.078438)scale(0.1 -0.1)\">\n       <use xlink:href=\"#DejaVuSans-32\"/>\n       <use xlink:href=\"#DejaVuSans-30\" x=\"63.623047\"/>\n       <use xlink:href=\"#DejaVuSans-30\" x=\"127.246094\"/>\n      </g>\n     </g>\n    </g>\n    <g id=\"xtick_11\">\n     <g id=\"line2d_17\">\n      <g>\n       <use xlink:href=\"#md4956d28e2\" x=\"366.828119\" y=\"672.48\" style=\"stroke: #000000; stroke-width: 0.8\"/>\n      </g>\n     </g>\n     <g id=\"text_16\">\n      <!-- 300 -->\n      <g transform=\"translate(357.284369 687.078438)scale(0.1 -0.1)\">\n       <use xlink:href=\"#DejaVuSans-33\"/>\n       <use xlink:href=\"#DejaVuSans-30\" x=\"63.623047\"/>\n       <use xlink:href=\"#DejaVuSans-30\" x=\"127.246094\"/>\n      </g>\n     </g>\n    </g>\n    <g id=\"xtick_12\">\n     <g id=\"line2d_18\">\n      <g>\n       <use xlink:href=\"#md4956d28e2\" x=\"466.1311\" y=\"672.48\" style=\"stroke: #000000; stroke-width: 0.8\"/>\n      </g>\n     </g>\n     <g id=\"text_17\">\n      <!-- 400 -->\n      <g transform=\"translate(456.58735 687.078438)scale(0.1 -0.1)\">\n       <use xlink:href=\"#DejaVuSans-34\"/>\n       <use xlink:href=\"#DejaVuSans-30\" x=\"63.623047\"/>\n       <use xlink:href=\"#DejaVuSans-30\" x=\"127.246094\"/>\n      </g>\n     </g>\n    </g>\n    <g id=\"xtick_13\">\n     <g id=\"line2d_19\">\n      <g>\n       <use xlink:href=\"#md4956d28e2\" x=\"565.43408\" y=\"672.48\" style=\"stroke: #000000; stroke-width: 0.8\"/>\n      </g>\n     </g>\n     <g id=\"text_18\">\n      <!-- 500 -->\n      <g transform=\"translate(555.89033 687.078438)scale(0.1 -0.1)\">\n       <use xlink:href=\"#DejaVuSans-35\"/>\n       <use xlink:href=\"#DejaVuSans-30\" x=\"63.623047\"/>\n       <use xlink:href=\"#DejaVuSans-30\" x=\"127.246094\"/>\n      </g>\n     </g>\n    </g>\n    <g id=\"xtick_14\">\n     <g id=\"line2d_20\">\n      <g>\n       <use xlink:href=\"#md4956d28e2\" x=\"664.737061\" y=\"672.48\" style=\"stroke: #000000; stroke-width: 0.8\"/>\n      </g>\n     </g>\n     <g id=\"text_19\">\n      <!-- 600 -->\n      <g transform=\"translate(655.193311 687.078438)scale(0.1 -0.1)\">\n       <use xlink:href=\"#DejaVuSans-36\"/>\n       <use xlink:href=\"#DejaVuSans-30\" x=\"63.623047\"/>\n       <use xlink:href=\"#DejaVuSans-30\" x=\"127.246094\"/>\n      </g>\n     </g>\n    </g>\n   </g>\n   <g id=\"matplotlib.axis_4\">\n    <g id=\"ytick_6\">\n     <g id=\"line2d_21\">\n      <g>\n       <use xlink:href=\"#m00fe3aa6fa\" x=\"38.482813\" y=\"611.430718\" style=\"stroke: #000000; stroke-width: 0.8\"/>\n      </g>\n     </g>\n     <g id=\"text_20\">\n      <!-- −0.2 -->\n      <g transform=\"translate(7.2 615.229937)scale(0.1 -0.1)\">\n       <defs>\n        <path id=\"DejaVuSans-2212\" d=\"M 678 2272 \nL 4684 2272 \nL 4684 1741 \nL 678 1741 \nL 678 2272 \nz\n\" transform=\"scale(0.015625)\"/>\n       </defs>\n       <use xlink:href=\"#DejaVuSans-2212\"/>\n       <use xlink:href=\"#DejaVuSans-30\" x=\"83.789062\"/>\n       <use xlink:href=\"#DejaVuSans-2e\" x=\"147.412109\"/>\n       <use xlink:href=\"#DejaVuSans-32\" x=\"179.199219\"/>\n      </g>\n     </g>\n    </g>\n    <g id=\"ytick_7\">\n     <g id=\"line2d_22\">\n      <g>\n       <use xlink:href=\"#m00fe3aa6fa\" x=\"38.482813\" y=\"545.11066\" style=\"stroke: #000000; stroke-width: 0.8\"/>\n      </g>\n     </g>\n     <g id=\"text_21\">\n      <!-- 0.0 -->\n      <g transform=\"translate(15.579688 548.909879)scale(0.1 -0.1)\">\n       <use xlink:href=\"#DejaVuSans-30\"/>\n       <use xlink:href=\"#DejaVuSans-2e\" x=\"63.623047\"/>\n       <use xlink:href=\"#DejaVuSans-30\" x=\"95.410156\"/>\n      </g>\n     </g>\n    </g>\n    <g id=\"ytick_8\">\n     <g id=\"line2d_23\">\n      <g>\n       <use xlink:href=\"#m00fe3aa6fa\" x=\"38.482813\" y=\"478.790602\" style=\"stroke: #000000; stroke-width: 0.8\"/>\n      </g>\n     </g>\n     <g id=\"text_22\">\n      <!-- 0.2 -->\n      <g transform=\"translate(15.579688 482.589821)scale(0.1 -0.1)\">\n       <use xlink:href=\"#DejaVuSans-30\"/>\n       <use xlink:href=\"#DejaVuSans-2e\" x=\"63.623047\"/>\n       <use xlink:href=\"#DejaVuSans-32\" x=\"95.410156\"/>\n      </g>\n     </g>\n    </g>\n    <g id=\"ytick_9\">\n     <g id=\"line2d_24\">\n      <g>\n       <use xlink:href=\"#m00fe3aa6fa\" x=\"38.482813\" y=\"412.470544\" style=\"stroke: #000000; stroke-width: 0.8\"/>\n      </g>\n     </g>\n     <g id=\"text_23\">\n      <!-- 0.4 -->\n      <g transform=\"translate(15.579688 416.269763)scale(0.1 -0.1)\">\n       <use xlink:href=\"#DejaVuSans-30\"/>\n       <use xlink:href=\"#DejaVuSans-2e\" x=\"63.623047\"/>\n       <use xlink:href=\"#DejaVuSans-34\" x=\"95.410156\"/>\n      </g>\n     </g>\n    </g>\n   </g>\n   <g id=\"line2d_25\">\n    <path d=\"M 68.919176 546.5097 \nL 69.912206 546.639832 \nL 71.898266 546.570339 \nL 72.891295 546.304817 \nL 73.884325 546.638567 \nL 74.877355 546.767474 \nL 75.870385 547.799519 \nL 76.863415 546.266473 \nL 77.856444 546.91322 \nL 78.849474 546.940852 \nL 79.842504 546.496339 \nL 80.835534 546.785104 \nL 81.828564 546.677702 \nL 82.821593 546.256195 \nL 83.814623 547.162575 \nL 84.807653 546.349881 \nL 85.800683 547.404497 \nL 86.793713 546.741226 \nL 87.786743 546.725612 \nL 88.779772 545.899675 \nL 89.772802 545.770848 \nL 90.765832 546.030124 \nL 91.758862 545.822869 \nL 93.744921 546.033958 \nL 94.737951 546.012296 \nL 95.730981 546.301378 \nL 96.724011 545.796463 \nL 97.717041 546.060641 \nL 98.71007 546.049968 \nL 99.7031 546.431233 \nL 101.68916 546.069654 \nL 102.68219 546.228682 \nL 103.675219 545.769662 \nL 104.668249 545.597905 \nL 105.661279 545.28973 \nL 106.654309 545.769148 \nL 107.647339 545.494455 \nL 108.640368 546.203936 \nL 109.633398 546.113413 \nL 110.626428 545.781876 \nL 111.619458 544.058929 \nL 114.598547 544.814226 \nL 115.591577 546.088075 \nL 116.584607 544.764497 \nL 117.577637 545.353215 \nL 118.570667 545.090974 \nL 119.563696 546.463489 \nL 120.556726 543.483493 \nL 121.549756 544.622783 \nL 122.542786 542.029823 \nL 123.535816 547.729788 \nL 124.528845 545.605257 \nL 125.521875 547.259344 \nL 126.514905 543.836218 \nL 127.507935 546.489974 \nL 128.500965 538.749796 \nL 129.493994 476.791562 \nL 130.487024 383.825455 \nL 131.480054 432.422643 \nL 132.473084 421.463787 \nL 134.459144 607.139414 \nL 135.452173 584.312358 \nL 136.445203 608.201186 \nL 137.438233 547.243927 \nL 138.431263 533.148457 \nL 139.424293 539.308905 \nL 142.403382 658.734545 \nL 143.396412 635.167332 \nL 144.389442 574.840535 \nL 145.382471 543.989673 \nL 146.375501 522.856351 \nL 147.368531 537.358741 \nL 148.361561 588.977748 \nL 149.354591 617.009263 \nL 150.34762 624.174125 \nL 151.34065 607.277057 \nL 152.33368 554.42041 \nL 153.32671 524.06039 \nL 154.31974 527.663337 \nL 155.312769 535.179935 \nL 156.305799 575.120485 \nL 157.298829 591.475559 \nL 158.291859 592.607259 \nL 159.284889 585.570237 \nL 160.277919 545.872597 \nL 161.270948 531.622171 \nL 162.263978 536.558854 \nL 163.257008 552.384466 \nL 164.250038 577.53556 \nL 165.243068 598.057949 \nL 166.236097 589.306043 \nL 167.229127 572.73735 \nL 168.222157 537.629204 \nL 169.215187 518.988396 \nL 170.208217 517.884051 \nL 171.201246 537.40922 \nL 172.194276 563.044753 \nL 173.187306 567.105772 \nL 174.180336 562.651431 \nL 176.166395 496.831686 \nL 177.159425 487.117111 \nL 178.152455 485.559833 \nL 179.145485 511.318739 \nL 180.138515 526.014785 \nL 181.131545 525.570074 \nL 182.124574 517.340042 \nL 183.117604 493.532131 \nL 184.110634 456.970078 \nL 185.103664 457.324265 \nL 186.096694 469.522895 \nL 187.089723 497.342728 \nL 188.082753 535.258639 \nL 189.075783 528.138169 \nL 190.068813 520.165832 \nL 191.061843 486.007508 \nL 192.054872 459.139435 \nL 193.047902 473.406346 \nL 194.040932 504.916249 \nL 195.033962 542.027333 \nL 196.026992 565.025435 \nL 197.020021 551.350405 \nL 198.013051 523.476139 \nL 199.006081 502.197743 \nL 199.999111 501.946887 \nL 200.992141 521.13372 \nL 201.985171 553.039356 \nL 202.9782 573.364807 \nL 203.97123 573.665076 \nL 205.95729 525.009897 \nL 206.95032 509.982828 \nL 207.943349 518.422448 \nL 209.929409 571.522124 \nL 210.922439 576.021054 \nL 211.915469 558.407034 \nL 212.908498 533.247598 \nL 213.901528 517.252246 \nL 214.894558 518.617764 \nL 215.887588 545.655302 \nL 216.880618 555.87918 \nL 217.873647 573.761647 \nL 218.866677 570.200839 \nL 219.859707 553.002277 \nL 220.852737 546.02119 \nL 221.845767 527.454106 \nL 222.838796 534.737754 \nL 223.831826 549.260265 \nL 225.817886 584.004223 \nL 226.810916 577.047881 \nL 227.803946 565.778992 \nL 229.790005 540.579908 \nL 230.783035 559.330213 \nL 233.762124 600.925245 \nL 234.755154 582.580753 \nL 235.748184 568.637829 \nL 236.741214 559.519561 \nL 237.734244 554.258022 \nL 239.720303 580.706486 \nL 240.713333 587.52388 \nL 241.706363 589.312328 \nL 243.692422 559.485882 \nL 244.685452 552.322997 \nL 245.678482 550.465846 \nL 246.671512 567.51202 \nL 247.664542 576.078253 \nL 248.657572 579.62068 \nL 249.650601 571.029819 \nL 250.643631 554.065156 \nL 251.636661 544.410666 \nL 252.629691 541.317891 \nL 253.622721 550.892768 \nL 254.61575 557.483973 \nL 255.60878 560.787678 \nL 256.60181 565.511889 \nL 257.59484 551.72661 \nL 259.580899 540.752298 \nL 260.573929 533.55854 \nL 261.566959 548.879948 \nL 262.559989 551.913942 \nL 263.553019 558.035532 \nL 264.546048 559.277916 \nL 265.539078 536.633803 \nL 266.532108 535.787548 \nL 267.525138 527.913324 \nL 268.518168 532.518391 \nL 269.511197 543.022971 \nL 270.504227 536.525728 \nL 271.497257 536.449475 \nL 272.490287 532.58243 \nL 273.483317 523.8527 \nL 274.476347 522.607036 \nL 275.469376 514.635173 \nL 276.462406 515.228318 \nL 277.455436 523.99066 \nL 278.448466 526.562471 \nL 280.434525 514.967303 \nL 281.427555 503.695687 \nL 282.420585 504.487113 \nL 283.413615 510.189371 \nL 284.406645 514.022935 \nL 285.399674 521.887514 \nL 286.392704 519.307204 \nL 287.385734 513.968305 \nL 288.378764 510.752829 \nL 289.371794 509.045299 \nL 290.364823 515.196062 \nL 291.357853 519.796386 \nL 292.350883 526.249987 \nL 293.343913 526.962947 \nL 294.336943 526.858668 \nL 295.329973 524.270373 \nL 296.323002 526.861435 \nL 297.316032 530.891146 \nL 298.309062 532.0351 \nL 299.302092 536.584391 \nL 300.295122 537.599319 \nL 301.288151 540.029772 \nL 302.281181 540.184887 \nL 303.274211 538.871271 \nL 304.267241 541.236696 \nL 305.260271 541.085297 \nL 306.2533 546.212277 \nL 307.24633 548.886708 \nL 309.23239 550.221472 \nL 310.22542 550.1855 \nL 311.218449 550.589732 \nL 312.211479 552.991051 \nL 313.204509 552.845067 \nL 314.197539 557.238769 \nL 315.190569 557.855513 \nL 316.183599 559.624118 \nL 317.176628 559.686654 \nL 318.169658 557.124567 \nL 319.162688 555.183297 \nL 320.155718 556.230244 \nL 321.148748 558.852614 \nL 322.141777 563.147689 \nL 323.134807 561.149376 \nL 324.127837 560.140931 \nL 325.120867 557.844445 \nL 326.113897 557.725777 \nL 327.106926 558.647217 \nL 328.099956 560.547811 \nL 330.086016 558.068816 \nL 331.079046 557.840848 \nL 332.072075 557.423887 \nL 333.065105 557.328265 \nL 334.058135 556.415481 \nL 335.051165 554.802585 \nL 336.044195 554.75258 \nL 337.037224 556.291832 \nL 338.030254 557.00495 \nL 339.023284 554.366373 \nL 340.016314 552.8776 \nL 341.009344 552.493884 \nL 342.002374 553.657959 \nL 342.995403 554.630393 \nL 343.988433 555.270934 \nL 344.981463 552.44376 \nL 345.974493 551.442628 \nL 346.967523 551.774876 \nL 347.960552 552.365491 \nL 348.953582 552.544522 \nL 349.946612 551.5845 \nL 350.939642 549.115783 \nL 351.932672 548.736218 \nL 352.925701 549.71632 \nL 353.918731 550.275114 \nL 354.911761 546.302722 \nL 355.904791 544.139254 \nL 356.897821 543.156502 \nL 357.89085 543.143695 \nL 358.88388 542.623601 \nL 359.87691 541.16574 \nL 360.86994 537.227581 \nL 362.856 532.945432 \nL 363.849029 533.038327 \nL 365.835089 531.085988 \nL 366.828119 528.954421 \nL 367.821149 527.800782 \nL 368.814178 528.111052 \nL 370.800238 527.092882 \nL 371.793268 525.72677 \nL 372.786298 525.124336 \nL 373.779327 525.741594 \nL 374.772357 525.92106 \nL 375.765387 527.654008 \nL 376.758417 527.989893 \nL 377.751447 528.199322 \nL 378.744476 527.947161 \nL 380.730536 531.875043 \nL 381.723566 533.180951 \nL 382.716596 532.982155 \nL 384.702655 534.955089 \nL 385.695685 538.157718 \nL 386.688715 539.846788 \nL 387.681745 540.474245 \nL 388.674775 540.29727 \nL 389.667804 539.661986 \nL 390.660834 541.49032 \nL 391.653864 544.66085 \nL 392.646894 545.742623 \nL 393.639924 545.560667 \nL 394.632953 544.813 \nL 395.625983 544.934673 \nL 396.619013 546.531244 \nL 397.612043 548.835754 \nL 398.605073 549.691772 \nL 399.598102 550.146484 \nL 400.591132 549.385416 \nL 401.584162 550.089403 \nL 402.577192 550.495335 \nL 404.563251 553.924509 \nL 405.556281 553.828332 \nL 406.549311 553.224989 \nL 408.535371 553.552612 \nL 409.528401 555.147443 \nL 410.52143 556.38192 \nL 411.51446 556.754726 \nL 412.50749 556.067974 \nL 413.50052 556.223722 \nL 414.49355 555.652555 \nL 415.486579 556.882052 \nL 416.479609 557.449305 \nL 417.472639 557.621655 \nL 419.458699 557.399972 \nL 421.444758 557.810054 \nL 422.437788 557.067961 \nL 423.430818 557.197105 \nL 424.423848 556.861971 \nL 425.416877 556.800265 \nL 426.409907 556.238229 \nL 427.402937 556.441729 \nL 428.395967 556.395835 \nL 429.388997 556.13644 \nL 430.382026 554.996004 \nL 431.375056 554.431558 \nL 432.368086 554.438436 \nL 433.361116 554.610391 \nL 434.354146 554.017918 \nL 436.340205 553.305155 \nL 437.333235 553.188186 \nL 438.326265 551.992765 \nL 439.319295 552.051941 \nL 440.312325 551.509789 \nL 441.305354 551.469903 \nL 442.298384 550.51506 \nL 443.291414 549.859418 \nL 444.284444 548.972725 \nL 445.277474 548.43168 \nL 448.256563 546.038109 \nL 449.249593 545.696571 \nL 450.242623 544.74995 \nL 451.235652 544.254365 \nL 454.214742 541.564359 \nL 457.193831 540.449895 \nL 458.186861 539.232969 \nL 460.172921 538.177127 \nL 461.165951 538.111072 \nL 462.15898 536.783384 \nL 463.15201 536.888336 \nL 464.14504 536.329977 \nL 465.13807 535.997926 \nL 466.1311 536.202888 \nL 467.124129 535.974682 \nL 468.117159 536.116397 \nL 469.110189 536.051687 \nL 470.103219 535.482417 \nL 471.096249 536.246687 \nL 472.089278 536.791487 \nL 474.075338 537.260153 \nL 475.068368 537.231692 \nL 479.040487 538.795966 \nL 480.033517 539.065797 \nL 483.012606 540.626751 \nL 484.005636 541.234088 \nL 484.998666 541.523248 \nL 486.984726 542.78512 \nL 487.977755 543.673039 \nL 488.970785 544.330934 \nL 489.963815 543.96046 \nL 490.956845 544.366827 \nL 491.949875 545.190154 \nL 492.942904 545.140623 \nL 494.928964 545.914222 \nL 495.921994 545.772192 \nL 496.915024 545.9834 \nL 497.908053 546.032021 \nL 498.901083 546.205953 \nL 499.894113 546.497129 \nL 501.880173 546.71316 \nL 502.873203 547.233254 \nL 503.866232 546.917371 \nL 504.859262 547.172536 \nL 506.845322 546.724307 \nL 507.838352 547.443118 \nL 508.831381 546.73328 \nL 511.810471 546.078627 \nL 512.803501 545.731278 \nL 514.78956 545.415909 \nL 515.78259 545.144023 \nL 516.77562 545.279373 \nL 517.76865 544.504747 \nL 518.761679 544.738249 \nL 519.754709 544.747341 \nL 520.747739 544.966376 \nL 522.733799 544.599144 \nL 523.726829 545.07532 \nL 525.712888 544.480119 \nL 529.685007 544.150045 \nL 530.678037 543.972952 \nL 531.671067 544.204596 \nL 532.664097 543.989752 \nL 533.657127 543.472306 \nL 534.650156 543.629161 \nL 535.643186 543.502665 \nL 536.636216 543.587378 \nL 538.622276 543.375221 \nL 539.615305 543.890888 \nL 540.608335 543.727985 \nL 541.601365 543.386329 \nL 542.594395 543.655883 \nL 543.587425 543.532985 \nL 544.580454 543.795107 \nL 546.566514 543.109739 \nL 547.559544 543.612321 \nL 549.545604 542.953793 \nL 550.538633 543.004075 \nL 551.531663 542.731833 \nL 553.517723 542.615181 \nL 554.510753 542.422236 \nL 555.503782 542.788282 \nL 556.496812 542.549759 \nL 557.489842 542.156516 \nL 558.482872 542.492401 \nL 559.475902 542.372072 \nL 560.468931 542.516949 \nL 562.454991 542.335112 \nL 563.448021 542.786622 \nL 564.441051 542.963557 \nL 565.43408 542.808758 \nL 566.42711 542.929285 \nL 567.42014 542.881059 \nL 570.39923 543.682012 \nL 571.392259 544.216337 \nL 572.385289 544.463675 \nL 573.378319 544.475613 \nL 574.371349 544.913762 \nL 575.364379 545.053658 \nL 576.357408 545.608815 \nL 577.350438 545.909083 \nL 578.343468 546.406487 \nL 579.336498 547.321959 \nL 580.329528 547.424578 \nL 581.322557 547.798728 \nL 582.315587 548.422588 \nL 583.308617 548.326017 \nL 584.301647 548.955055 \nL 585.294677 549.162349 \nL 586.287706 549.671217 \nL 587.280736 549.899897 \nL 588.273766 549.863885 \nL 589.266796 550.139408 \nL 591.252856 550.474582 \nL 592.245885 550.603528 \nL 593.238915 550.54617 \nL 594.231945 550.662467 \nL 595.224975 550.411176 \nL 597.211034 550.160478 \nL 600.190124 550.474226 \nL 601.183154 550.204553 \nL 603.169213 549.908752 \nL 604.162243 549.588481 \nL 606.148303 549.328849 \nL 608.134362 549.273942 \nL 609.127392 548.71084 \nL 611.113452 548.566793 \nL 613.099511 547.940798 \nL 615.085571 547.812287 \nL 616.078601 547.862529 \nL 618.06466 547.376312 \nL 619.05769 547.40928 \nL 621.04375 546.944409 \nL 622.03678 547.094306 \nL 623.029809 546.976112 \nL 624.022839 547.045289 \nL 625.015869 546.56856 \nL 626.008899 546.461236 \nL 627.001929 546.612873 \nL 627.994958 546.19275 \nL 629.981018 545.776184 \nL 630.974048 545.777607 \nL 631.967078 545.657792 \nL 632.960107 545.711158 \nL 633.953137 545.188178 \nL 636.932227 544.835295 \nL 637.925257 544.817625 \nL 638.918286 544.481938 \nL 639.911316 544.408254 \nL 640.904346 543.710157 \nL 641.897376 543.803883 \nL 642.890406 544.193251 \nL 643.883435 544.106562 \nL 644.876465 543.620583 \nL 645.869495 543.762653 \nL 647.855555 543.656397 \nL 648.848584 543.221964 \nL 649.841614 543.40894 \nL 650.834644 543.41064 \nL 651.827674 543.892548 \nL 652.820704 543.748304 \nL 653.813733 543.383641 \nL 655.799793 543.320433 \nL 657.785853 544.009754 \nL 658.778882 544.84245 \nL 659.771912 543.554291 \nL 661.757972 543.590263 \nL 662.751002 544.096403 \nL 663.744032 545.721633 \nL 664.737061 544.91641 \nL 665.730091 544.455413 \nL 666.723121 544.166055 \nL 667.716151 544.422287 \nL 668.709181 544.149097 \nL 669.70221 544.279861 \nL 670.69524 545.121293 \nL 671.68827 545.465954 \nL 672.6813 543.988803 \nL 673.67433 544.529136 \nL 674.667359 544.580169 \nL 675.660389 545.24178 \nL 676.653419 545.296015 \nL 677.646449 544.779321 \nL 677.646449 544.779321 \n\" clip-path=\"url(#p93ffc12f6e)\" style=\"fill: none; stroke: #1f77b4; stroke-width: 1.5; stroke-linecap: square\"/>\n   </g>\n   <g id=\"patch_8\">\n    <path d=\"M 38.482813 672.48 \nL 38.482813 370.08 \n\" style=\"fill: none; stroke: #000000; stroke-width: 0.8; stroke-linejoin: miter; stroke-linecap: square\"/>\n   </g>\n   <g id=\"patch_9\">\n    <path d=\"M 708.082813 672.48 \nL 708.082813 370.08 \n\" style=\"fill: none; stroke: #000000; stroke-width: 0.8; stroke-linejoin: miter; stroke-linecap: square\"/>\n   </g>\n   <g id=\"patch_10\">\n    <path d=\"M 38.482813 672.48 \nL 708.082813 672.48 \n\" style=\"fill: none; stroke: #000000; stroke-width: 0.8; stroke-linejoin: miter; stroke-linecap: square\"/>\n   </g>\n   <g id=\"patch_11\">\n    <path d=\"M 38.482813 370.08 \nL 708.082813 370.08 \n\" style=\"fill: none; stroke: #000000; stroke-width: 0.8; stroke-linejoin: miter; stroke-linecap: square\"/>\n   </g>\n  </g>\n </g>\n <defs>\n  <clipPath id=\"pd5b0d24aa5\">\n   <rect x=\"38.482813\" y=\"7.2\" width=\"669.6\" height=\"302.4\"/>\n  </clipPath>\n  <clipPath id=\"p93ffc12f6e\">\n   <rect x=\"38.482813\" y=\"370.08\" width=\"669.6\" height=\"302.4\"/>\n  </clipPath>\n </defs>\n</svg>\n",
      "text/plain": [
       "<Figure size 1200x1200 with 2 Axes>"
      ]
     },
     "metadata": {},
     "output_type": "display_data"
    }
   ],
   "source": [
    "compare_signal(X_v_2[0], X_v_2_new[1259].detach().numpy())"
   ]
  }
 ],
 "metadata": {
  "kernelspec": {
   "display_name": "base",
   "language": "python",
   "name": "python3"
  },
  "language_info": {
   "codemirror_mode": {
    "name": "ipython",
    "version": 3
   },
   "file_extension": ".py",
   "mimetype": "text/x-python",
   "name": "python",
   "nbconvert_exporter": "python",
   "pygments_lexer": "ipython3",
   "version": "3.9.13 (main, Aug 25 2022, 23:51:50) [MSC v.1916 64 bit (AMD64)]"
  },
  "orig_nbformat": 4,
  "vscode": {
   "interpreter": {
    "hash": "49cb93f377a7abe7414b7b0f21fb3017538004a126cf690fb524202736b7fb92"
   }
  }
 },
 "nbformat": 4,
 "nbformat_minor": 2
}
